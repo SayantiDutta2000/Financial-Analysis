{
 "cells": [
  {
   "cell_type": "code",
   "execution_count": 1,
   "metadata": {},
   "outputs": [],
   "source": [
    "#Importing the essential libraries\n",
    "#Beautiful Soup is a Python library for pulling data out of HTML and XML files\n",
    "#The Natural Language Toolkit\n",
    "\n",
    "import requests\n",
    "import nltk\n",
    "from nltk.sentiment.vader import SentimentIntensityAnalyzer \n",
    "from bs4 import BeautifulSoup\n",
    "import numpy as np \n",
    "import pandas as pd \n",
    "import seaborn as sns\n",
    "import matplotlib.pyplot as plt\n",
    "%matplotlib inline\n",
    "import random\n",
    "from wordcloud import WordCloud\n",
    "from html.parser import HTMLParser\n",
    "\n",
    "import bs4 as bs\n",
    "import urllib.request\n",
    "import re"
   ]
  },
  {
   "cell_type": "code",
   "execution_count": 2,
   "metadata": {},
   "outputs": [],
   "source": [
    "r=requests.get('http://gflenv.com/liquid-and-special-waste/hazardous-waste/')"
   ]
  },
  {
   "cell_type": "code",
   "execution_count": 3,
   "metadata": {},
   "outputs": [],
   "source": [
    "#Setting the correct text encoding of the HTML page\n",
    "r.encoding = 'utf-8'"
   ]
  },
  {
   "cell_type": "code",
   "execution_count": 4,
   "metadata": {},
   "outputs": [],
   "source": [
    "#Extracting the HTML from the request object\n",
    "html = r.text"
   ]
  },
  {
   "cell_type": "code",
   "execution_count": 5,
   "metadata": {},
   "outputs": [
    {
     "name": "stdout",
     "output_type": "stream",
     "text": [
      "<!DOCTYPE html>\n",
      "<html lang=\"en-US\" prefix=\"og: http://ogp.me/ns#\" class=\"no-js\">\n",
      "<head>\n",
      "\t\n",
      "<!-- Google Tag Manager -->\n",
      "<script>(function(w,d,s,l,i){w[l]=w[l]||[];w[l].push({'gtm.start':\n",
      "new Date().getTime(),event:'gtm.js'});var f=d.getElementsByTagName(s)[0],\n",
      "j=d.createElement(s),dl=l!='dataLayer'?'&l='+l:'';j.async=true;j.src=\n",
      "'https://www.googletagmanager.com/gtm.js?id='+i+dl;f.parentNode.insertBefore(j,f);\n",
      "})(window,document,'script','dataLayer','GTM-5C34RXR');</script>\n",
      "<!-- End Google Tag Man\n"
     ]
    }
   ],
   "source": [
    "# Printing the first 500 characters in html\n",
    "print(html[:500])"
   ]
  },
  {
   "cell_type": "code",
   "execution_count": 6,
   "metadata": {},
   "outputs": [],
   "source": [
    "# Creating a BeautifulSoup object from the HTML\n",
    "soup = BeautifulSoup(html)"
   ]
  },
  {
   "cell_type": "code",
   "execution_count": 7,
   "metadata": {},
   "outputs": [],
   "source": [
    "# Getting the text out of the soup\n",
    "text = soup.get_text()"
   ]
  },
  {
   "cell_type": "code",
   "execution_count": 8,
   "metadata": {},
   "outputs": [
    {
     "data": {
      "text/plain": [
       "14842"
      ]
     },
     "execution_count": 8,
     "metadata": {},
     "output_type": "execute_result"
    }
   ],
   "source": [
    "#total length\n",
    "len(text)"
   ]
  },
  {
   "cell_type": "code",
   "execution_count": 9,
   "metadata": {},
   "outputs": [],
   "source": [
    "text=text[7938:12275]"
   ]
  },
  {
   "cell_type": "code",
   "execution_count": 10,
   "metadata": {},
   "outputs": [
    {
     "data": {
      "text/plain": [
       "'For over forty years, GFL Environmental and its predecessors have managed industrial, institutional and household hazardous waste with services such as onsite packaging, container supply, transportation, and licensed disposal or recycling. Our teams of qualified chemists and technicians work together with our customers to solve hazardous waste challenges ranging from routine to complex. We also coordinate onsite recycling initiatives, personnel training and waste reduction programs. All hazardous waste materials are handled by GFL with care and compliance at our transfer, storage and disposal facilities located in Canada and the United States.\\nINDUSTRIAL WASTE MATERIALS\\nGreen For Life is a trusted partner to many of North America’s thriving industries. We provide hazardous waste and recycling services for industrial sites such as mines, refineries, power stations and rail yards. We supply bins, roll-off containers and storage tanks for large volumes of waste materials. Our high-performance vacuum trucks and confined space entry teams can be deployed for plant shutdowns and to extract hazardous materials and waste from tanks, vats and silos.\\nINSTITUTIONAL WASTE MATERIALS\\nWe safely remove and properly recycle or dispose of outdated chemicals and reagents from institutions such as high schools, hospitals and laboratories. Our teams of chemists and technicians classify and package chemicals for secure, licensed transportation and disposal. We can also accurately identify unknown chemicals and manage highly-sensitive materials.\\nHOUSEHOLD WASTE MATERIALS\\nMaterials such as chemical cleaners, paints, solvents, poisons and pesticides pose a danger to people and the environment if neglected or improperly handled. Recycle and dispose of household hazardous waste (HHW) through GFL’s community round-up and recycling stewardship programs or through other community initiatives. We can help you plan, coordinate and execute round-up events or can provide routine collection services at established waste drop-off centres.\\nPROCESSING CAPABILITIES\\nIn addition to collection and transportation of liquid wastes, GFL facilities process and/or treat an impressive variety of wastes generated by industrial, commercial and institutional applications. Our advanced treatment technology allows us to treat a vast range of liquid and solid waste streams.\\nOur processing capabilities include:\\n\\nWaste water treatment\\nEmulsion treatment\\nReduction\\nOxidation\\nAcid and alkali neutralization\\nSolidification / stabilization\\nSolvent and oil recycling\\nFuel blending\\nLab pack services\\n\\nLAB PACKING\\nMany companies generate miscellaneous chemicals, products and/or lab reagents from regular production, onsite lab operations or regularly maintained plant clean-outs. GFL has specially-trained technicians to perform onsite lab packs of obsolete chemicals and reagents for safe removal on a regularly scheduled or on-call basis.\\nOur lab packing service includes:\\n\\nWaste identification / profiling\\nInventory of items for disposal\\nSegregation\\nLabelling and packaging\\nManifesting\\nTransportation to our receiving facility\\nContainerized waste removal\\n\\nGFL can safely sample your waste, assist you with waste characterization in accordance with applicable regulations and determine the best treatment process for disposal. We will also help classify, separate and inventory all waste streams. GFL will complete all required paperwork associated with the removal and will transfer and dispose of waste according to all applicable regulations and guidelines. We can also provide appropriate containers for shipment if required.\\nENERGY MARKETING & WASTE ALLOCATION\\nGFL has a dedicated team of commodity specialists who can assist you with finding the liquid waste product you need for your operations. We can also help you find an end user for your own liquid waste by-products.\\n\\nQUESTIONS?\\nEmail or call GFL for a no-obligation assessment of how we can meet all your environmental service needs.\\nFor 24-HOUR SUPPORT or EMERGENCY, call 1.866.417.2797.\\n\\n\\n\\n\\n\\n\\n\\n\\nFind your GFL location\\n\\nThrough our strategically located network of\\xa0facilities across Canada and 23 states in the US, GFL has capabilities that can be mobilized to service our customers wherever they are.\\xa0Please enter your location information to find the facility closest to you.\\n\\n\\n\\n\\n\\n\\n\\n\\n\\n\\n'"
      ]
     },
     "execution_count": 10,
     "metadata": {},
     "output_type": "execute_result"
    }
   ],
   "source": [
    "text"
   ]
  },
  {
   "cell_type": "code",
   "execution_count": 11,
   "metadata": {},
   "outputs": [],
   "source": [
    "# Removing Square Brackets and Extra Spaces\n",
    "clean_text = re.sub(r'\\[[0-9]*\\]', ' ', text)\n",
    "clean_text = re.sub(r'\\s+', ' ', clean_text)"
   ]
  },
  {
   "cell_type": "code",
   "execution_count": 12,
   "metadata": {},
   "outputs": [
    {
     "data": {
      "text/plain": [
       "'All hazardous waste materials are handled by GFL with care and compliance at our transfer, storage and disposal facilities located in Canada and the United States. INDUSTRIAL WASTE MATERIALS Green For Life is a trusted partner to many of North America’s thriving industries. We provide hazardous waste and recycling services for industrial sites such as mines, refineries, power stations and rail yards. '"
      ]
     },
     "execution_count": 12,
     "metadata": {},
     "output_type": "execute_result"
    }
   ],
   "source": [
    "clean_text[488:892]"
   ]
  },
  {
   "cell_type": "markdown",
   "metadata": {},
   "source": [
    "# Text Summarization"
   ]
  },
  {
   "cell_type": "code",
   "execution_count": 13,
   "metadata": {},
   "outputs": [
    {
     "name": "stderr",
     "output_type": "stream",
     "text": [
      "[nltk_data] Downloading package punkt to C:\\Users\\Sayanti\n",
      "[nltk_data]     Dutta\\AppData\\Roaming\\nltk_data...\n",
      "[nltk_data]   Package punkt is already up-to-date!\n"
     ]
    }
   ],
   "source": [
    "#We need to tokenize the article into sentences\n",
    "#Sentence tokenization\n",
    "nltk.download('punkt')\n",
    "sentence_list = nltk.sent_tokenize(clean_text)"
   ]
  },
  {
   "cell_type": "code",
   "execution_count": 14,
   "metadata": {},
   "outputs": [],
   "source": [
    "#Weighted Frequency of Occurrence\n",
    "\n",
    "stopwords = nltk.corpus.stopwords.words('english')\n",
    "\n",
    "word_frequencies = {}\n",
    "for word in nltk.word_tokenize(clean_text):\n",
    "    if word not in stopwords:\n",
    "        if word not in word_frequencies.keys():\n",
    "            word_frequencies[word] = 1\n",
    "        else:\n",
    "            word_frequencies[word] += 1"
   ]
  },
  {
   "cell_type": "code",
   "execution_count": 15,
   "metadata": {},
   "outputs": [],
   "source": [
    "maximum_frequncy = max(word_frequencies.values())\n",
    "\n",
    "for word in word_frequencies.keys():\n",
    "    word_frequencies[word] = (word_frequencies[word]/maximum_frequncy)"
   ]
  },
  {
   "cell_type": "code",
   "execution_count": 16,
   "metadata": {},
   "outputs": [],
   "source": [
    "sentence_scores = {}\n",
    "for sent in sentence_list:\n",
    "    for word in nltk.word_tokenize(sent.lower()):\n",
    "        if word in word_frequencies.keys():\n",
    "            if len(sent.split(' ')) < 30:\n",
    "                if sent not in sentence_scores.keys():\n",
    "                    sentence_scores[sent] = word_frequencies[word]\n",
    "                else:\n",
    "                    sentence_scores[sent] += word_frequencies[word]"
   ]
  },
  {
   "cell_type": "code",
   "execution_count": 17,
   "metadata": {},
   "outputs": [
    {
     "data": {
      "text/plain": [
       "{'Our teams of qualified chemists and technicians work together with our customers to solve hazardous waste challenges ranging from routine to complex.': 2.5,\n",
       " 'We also coordinate onsite recycling initiatives, personnel training and waste reduction programs.': 3.3214285714285716,\n",
       " 'All hazardous waste materials are handled by GFL with care and compliance at our transfer, storage and disposal facilities located in Canada and the United States.': 3.535714285714286,\n",
       " 'INDUSTRIAL WASTE MATERIALS Green For Life is a trusted partner to many of North America’s thriving industries.': 2.107142857142857,\n",
       " 'We provide hazardous waste and recycling services for industrial sites such as mines, refineries, power stations and rail yards.': 4.392857142857142,\n",
       " 'We supply bins, roll-off containers and storage tanks for large volumes of waste materials.': 3.0714285714285716,\n",
       " 'Our high-performance vacuum trucks and confined space entry teams can be deployed for plant shutdowns and to extract hazardous materials and waste from tanks, vats and silos.': 3.4999999999999996,\n",
       " 'INSTITUTIONAL WASTE MATERIALS We safely remove and properly recycle or dispose of outdated chemicals and reagents from institutions such as high schools, hospitals and laboratories.': 3.5,\n",
       " 'Our teams of chemists and technicians classify and package chemicals for secure, licensed transportation and disposal.': 2.857142857142857,\n",
       " 'We can also accurately identify unknown chemicals and manage highly-sensitive materials.': 1.6785714285714286,\n",
       " 'HOUSEHOLD WASTE MATERIALS Materials such as chemical cleaners, paints, solvents, poisons and pesticides pose a danger to people and the environment if neglected or improperly handled.': 5.1428571428571415,\n",
       " 'Recycle and dispose of household hazardous waste (HHW) through GFL’s community round-up and recycling stewardship programs or through other community initiatives.': 2.75,\n",
       " 'We can help you plan, coordinate and execute round-up events or can provide routine collection services at established waste drop-off centres.': 3.357142857142857,\n",
       " 'PROCESSING CAPABILITIES In addition to collection and transportation of liquid wastes, GFL facilities process and/or treat an impressive variety of wastes generated by industrial, commercial and institutional applications.': 4.071428571428571,\n",
       " 'Our advanced treatment technology allows us to treat a vast range of liquid and solid waste streams.': 2.2857142857142856,\n",
       " 'GFL has specially-trained technicians to perform onsite lab packs of obsolete chemicals and reagents for safe removal on a regularly scheduled or on-call basis.': 2.1428571428571432,\n",
       " 'We will also help classify, separate and inventory all waste streams.': 3.0000000000000004,\n",
       " 'GFL will complete all required paperwork associated with the removal and will transfer and dispose of waste according to all applicable regulations and guidelines.': 2.2857142857142856,\n",
       " 'We can also provide appropriate containers for shipment if required.': 1.5,\n",
       " 'ENERGY MARKETING & WASTE ALLOCATION GFL has a dedicated team of commodity specialists who can assist you with finding the liquid waste product you need for your operations.': 2.7857142857142856,\n",
       " 'We can also help you find an end user for your own liquid waste by-products.': 2.2142857142857144,\n",
       " 'QUESTIONS?': 0.03571428571428571,\n",
       " 'Email or call GFL for a no-obligation assessment of how we can meet all your environmental service needs.': 1.3571428571428572,\n",
       " 'For 24-HOUR SUPPORT or EMERGENCY, call 1.866.417.2797.': 2.0,\n",
       " 'Please enter your location information to find the facility closest to you.': 1.3214285714285714}"
      ]
     },
     "execution_count": 17,
     "metadata": {},
     "output_type": "execute_result"
    }
   ],
   "source": [
    "sentence_scores"
   ]
  },
  {
   "cell_type": "markdown",
   "metadata": {},
   "source": [
    "# 10 Key Ideas"
   ]
  },
  {
   "cell_type": "code",
   "execution_count": 18,
   "metadata": {},
   "outputs": [
    {
     "name": "stdout",
     "output_type": "stream",
     "text": [
      "HOUSEHOLD WASTE MATERIALS Materials such as chemical cleaners, paints, solvents, poisons and pesticides pose a danger to people and the environment if neglected or improperly handled. We provide hazardous waste and recycling services for industrial sites such as mines, refineries, power stations and rail yards. PROCESSING CAPABILITIES In addition to collection and transportation of liquid wastes, GFL facilities process and/or treat an impressive variety of wastes generated by industrial, commercial and institutional applications. All hazardous waste materials are handled by GFL with care and compliance at our transfer, storage and disposal facilities located in Canada and the United States. INSTITUTIONAL WASTE MATERIALS We safely remove and properly recycle or dispose of outdated chemicals and reagents from institutions such as high schools, hospitals and laboratories. Our high-performance vacuum trucks and confined space entry teams can be deployed for plant shutdowns and to extract hazardous materials and waste from tanks, vats and silos. We can help you plan, coordinate and execute round-up events or can provide routine collection services at established waste drop-off centres. We also coordinate onsite recycling initiatives, personnel training and waste reduction programs. We supply bins, roll-off containers and storage tanks for large volumes of waste materials. We will also help classify, separate and inventory all waste streams.\n"
     ]
    }
   ],
   "source": [
    "import heapq\n",
    "summary_sentences = heapq.nlargest(10, sentence_scores, key=sentence_scores.get)\n",
    "\n",
    "summary = ' '.join(summary_sentences)\n",
    "print(summary)"
   ]
  },
  {
   "cell_type": "markdown",
   "metadata": {},
   "source": [
    "# 15 Key Ideas"
   ]
  },
  {
   "cell_type": "code",
   "execution_count": 19,
   "metadata": {},
   "outputs": [
    {
     "name": "stdout",
     "output_type": "stream",
     "text": [
      "HOUSEHOLD WASTE MATERIALS Materials such as chemical cleaners, paints, solvents, poisons and pesticides pose a danger to people and the environment if neglected or improperly handled. We provide hazardous waste and recycling services for industrial sites such as mines, refineries, power stations and rail yards. PROCESSING CAPABILITIES In addition to collection and transportation of liquid wastes, GFL facilities process and/or treat an impressive variety of wastes generated by industrial, commercial and institutional applications. All hazardous waste materials are handled by GFL with care and compliance at our transfer, storage and disposal facilities located in Canada and the United States. INSTITUTIONAL WASTE MATERIALS We safely remove and properly recycle or dispose of outdated chemicals and reagents from institutions such as high schools, hospitals and laboratories. Our high-performance vacuum trucks and confined space entry teams can be deployed for plant shutdowns and to extract hazardous materials and waste from tanks, vats and silos. We can help you plan, coordinate and execute round-up events or can provide routine collection services at established waste drop-off centres. We also coordinate onsite recycling initiatives, personnel training and waste reduction programs. We supply bins, roll-off containers and storage tanks for large volumes of waste materials. We will also help classify, separate and inventory all waste streams. Our teams of chemists and technicians classify and package chemicals for secure, licensed transportation and disposal. ENERGY MARKETING & WASTE ALLOCATION GFL has a dedicated team of commodity specialists who can assist you with finding the liquid waste product you need for your operations. Recycle and dispose of household hazardous waste (HHW) through GFL’s community round-up and recycling stewardship programs or through other community initiatives. Our teams of qualified chemists and technicians work together with our customers to solve hazardous waste challenges ranging from routine to complex. Our advanced treatment technology allows us to treat a vast range of liquid and solid waste streams.\n"
     ]
    }
   ],
   "source": [
    "import heapq\n",
    "summary_sentences_2 = heapq.nlargest(15, sentence_scores, key=sentence_scores.get)\n",
    "\n",
    "summary_2 = ' '.join(summary_sentences_2)\n",
    "print(summary_2)"
   ]
  },
  {
   "cell_type": "code",
   "execution_count": null,
   "metadata": {},
   "outputs": [],
   "source": []
  }
 ],
 "metadata": {
  "kernelspec": {
   "display_name": "Python 3",
   "language": "python",
   "name": "python3"
  },
  "language_info": {
   "codemirror_mode": {
    "name": "ipython",
    "version": 3
   },
   "file_extension": ".py",
   "mimetype": "text/x-python",
   "name": "python",
   "nbconvert_exporter": "python",
   "pygments_lexer": "ipython3",
   "version": "3.7.6"
  }
 },
 "nbformat": 4,
 "nbformat_minor": 4
}
